{
  "nbformat": 4,
  "nbformat_minor": 0,
  "metadata": {
    "colab": {
      "provenance": [],
      "include_colab_link": true
    },
    "kernelspec": {
      "name": "python3",
      "display_name": "Python 3"
    }
  },
  "cells": [
    {
      "cell_type": "markdown",
      "metadata": {
        "id": "view-in-github",
        "colab_type": "text"
      },
      "source": [
        "<a href=\"https://colab.research.google.com/github/raszeliga/openrouteservice/blob/main/Exerc%C3%ADcio_C_Aula02_RAS.ipynb\" target=\"_parent\"><img src=\"https://colab.research.google.com/assets/colab-badge.svg\" alt=\"Open In Colab\"/></a>"
      ]
    },
    {
      "cell_type": "code",
      "metadata": {
        "id": "3W5uTK32s2nR",
        "colab": {
          "base_uri": "https://localhost:8080/"
        },
        "outputId": "5b3cfa0f-cf0e-427e-b654-ecca95434fc2"
      },
      "source": [
        "#instalando a biblioteca\n",
        "!pip install openrouteservice ortools"
      ],
      "execution_count": null,
      "outputs": [
        {
          "output_type": "stream",
          "name": "stdout",
          "text": [
            "Collecting openrouteservice\n",
            "  Downloading openrouteservice-2.3.3-py3-none-any.whl (33 kB)\n",
            "Collecting ortools\n",
            "  Downloading ortools-9.9.3963-cp310-cp310-manylinux_2_17_x86_64.manylinux2014_x86_64.whl (24.8 MB)\n",
            "\u001b[2K     \u001b[90m━━━━━━━━━━━━━━━━━━━━━━━━━━━━━━━━━━━━━━━━\u001b[0m \u001b[32m24.8/24.8 MB\u001b[0m \u001b[31m32.5 MB/s\u001b[0m eta \u001b[36m0:00:00\u001b[0m\n",
            "\u001b[?25hRequirement already satisfied: requests>=2.0 in /usr/local/lib/python3.10/dist-packages (from openrouteservice) (2.31.0)\n",
            "Collecting absl-py>=2.0.0 (from ortools)\n",
            "  Downloading absl_py-2.1.0-py3-none-any.whl (133 kB)\n",
            "\u001b[2K     \u001b[90m━━━━━━━━━━━━━━━━━━━━━━━━━━━━━━━━━━━━━━━━\u001b[0m \u001b[32m133.7/133.7 kB\u001b[0m \u001b[31m14.4 MB/s\u001b[0m eta \u001b[36m0:00:00\u001b[0m\n",
            "\u001b[?25hRequirement already satisfied: numpy>=1.13.3 in /usr/local/lib/python3.10/dist-packages (from ortools) (1.25.2)\n",
            "Collecting pandas>=2.0.0 (from ortools)\n",
            "  Downloading pandas-2.2.1-cp310-cp310-manylinux_2_17_x86_64.manylinux2014_x86_64.whl (13.0 MB)\n",
            "\u001b[2K     \u001b[90m━━━━━━━━━━━━━━━━━━━━━━━━━━━━━━━━━━━━━━━━\u001b[0m \u001b[32m13.0/13.0 MB\u001b[0m \u001b[31m70.9 MB/s\u001b[0m eta \u001b[36m0:00:00\u001b[0m\n",
            "\u001b[?25hCollecting protobuf>=4.25.3 (from ortools)\n",
            "  Downloading protobuf-5.26.0-cp37-abi3-manylinux2014_x86_64.whl (302 kB)\n",
            "\u001b[2K     \u001b[90m━━━━━━━━━━━━━━━━━━━━━━━━━━━━━━━━━━━━━━━━\u001b[0m \u001b[32m302.8/302.8 kB\u001b[0m \u001b[31m32.1 MB/s\u001b[0m eta \u001b[36m0:00:00\u001b[0m\n",
            "\u001b[?25hCollecting immutabledict>=3.0.0 (from ortools)\n",
            "  Downloading immutabledict-4.2.0-py3-none-any.whl (4.7 kB)\n",
            "Requirement already satisfied: python-dateutil>=2.8.2 in /usr/local/lib/python3.10/dist-packages (from pandas>=2.0.0->ortools) (2.8.2)\n",
            "Requirement already satisfied: pytz>=2020.1 in /usr/local/lib/python3.10/dist-packages (from pandas>=2.0.0->ortools) (2023.4)\n",
            "Collecting tzdata>=2022.7 (from pandas>=2.0.0->ortools)\n",
            "  Downloading tzdata-2024.1-py2.py3-none-any.whl (345 kB)\n",
            "\u001b[2K     \u001b[90m━━━━━━━━━━━━━━━━━━━━━━━━━━━━━━━━━━━━━━━━\u001b[0m \u001b[32m345.4/345.4 kB\u001b[0m \u001b[31m32.2 MB/s\u001b[0m eta \u001b[36m0:00:00\u001b[0m\n",
            "\u001b[?25hRequirement already satisfied: charset-normalizer<4,>=2 in /usr/local/lib/python3.10/dist-packages (from requests>=2.0->openrouteservice) (3.3.2)\n",
            "Requirement already satisfied: idna<4,>=2.5 in /usr/local/lib/python3.10/dist-packages (from requests>=2.0->openrouteservice) (3.6)\n",
            "Requirement already satisfied: urllib3<3,>=1.21.1 in /usr/local/lib/python3.10/dist-packages (from requests>=2.0->openrouteservice) (2.0.7)\n",
            "Requirement already satisfied: certifi>=2017.4.17 in /usr/local/lib/python3.10/dist-packages (from requests>=2.0->openrouteservice) (2024.2.2)\n",
            "Requirement already satisfied: six>=1.5 in /usr/local/lib/python3.10/dist-packages (from python-dateutil>=2.8.2->pandas>=2.0.0->ortools) (1.16.0)\n",
            "Installing collected packages: tzdata, protobuf, immutabledict, absl-py, pandas, openrouteservice, ortools\n",
            "  Attempting uninstall: protobuf\n",
            "    Found existing installation: protobuf 3.20.3\n",
            "    Uninstalling protobuf-3.20.3:\n",
            "      Successfully uninstalled protobuf-3.20.3\n",
            "  Attempting uninstall: absl-py\n",
            "    Found existing installation: absl-py 1.4.0\n",
            "    Uninstalling absl-py-1.4.0:\n",
            "      Successfully uninstalled absl-py-1.4.0\n",
            "  Attempting uninstall: pandas\n",
            "    Found existing installation: pandas 1.5.3\n",
            "    Uninstalling pandas-1.5.3:\n",
            "      Successfully uninstalled pandas-1.5.3\n",
            "\u001b[31mERROR: pip's dependency resolver does not currently take into account all the packages that are installed. This behaviour is the source of the following dependency conflicts.\n",
            "bigframes 0.24.0 requires pandas<2.1.4,>=1.5.0, but you have pandas 2.2.1 which is incompatible.\n",
            "google-ai-generativelanguage 0.4.0 requires protobuf!=3.20.0,!=3.20.1,!=4.21.0,!=4.21.1,!=4.21.2,!=4.21.3,!=4.21.4,!=4.21.5,<5.0.0dev,>=3.19.5, but you have protobuf 5.26.0 which is incompatible.\n",
            "google-api-core 2.11.1 requires protobuf!=3.20.0,!=3.20.1,!=4.21.0,!=4.21.1,!=4.21.2,!=4.21.3,!=4.21.4,!=4.21.5,<5.0.0.dev0,>=3.19.5, but you have protobuf 5.26.0 which is incompatible.\n",
            "google-cloud-aiplatform 1.44.0 requires protobuf!=3.20.0,!=3.20.1,!=4.21.0,!=4.21.1,!=4.21.2,!=4.21.3,!=4.21.4,!=4.21.5,<5.0.0dev,>=3.19.5, but you have protobuf 5.26.0 which is incompatible.\n",
            "google-cloud-bigquery 3.12.0 requires protobuf!=3.20.0,!=3.20.1,!=4.21.0,!=4.21.1,!=4.21.2,!=4.21.3,!=4.21.4,!=4.21.5,<5.0.0dev,>=3.19.5, but you have protobuf 5.26.0 which is incompatible.\n",
            "google-cloud-bigquery-connection 1.12.1 requires protobuf!=3.20.0,!=3.20.1,!=4.21.0,!=4.21.1,!=4.21.2,!=4.21.3,!=4.21.4,!=4.21.5,<5.0.0dev,>=3.19.5, but you have protobuf 5.26.0 which is incompatible.\n",
            "google-cloud-bigquery-storage 2.24.0 requires protobuf!=3.20.0,!=3.20.1,!=4.21.0,!=4.21.1,!=4.21.2,!=4.21.3,!=4.21.4,!=4.21.5,<5.0.0dev,>=3.19.5, but you have protobuf 5.26.0 which is incompatible.\n",
            "google-cloud-datastore 2.15.2 requires protobuf!=3.20.0,!=3.20.1,!=4.21.0,!=4.21.1,!=4.21.2,!=4.21.3,!=4.21.4,!=4.21.5,<5.0.0dev,>=3.19.5, but you have protobuf 5.26.0 which is incompatible.\n",
            "google-cloud-firestore 2.11.1 requires protobuf!=3.20.0,!=3.20.1,!=4.21.0,!=4.21.1,!=4.21.2,!=4.21.3,!=4.21.4,!=4.21.5,<5.0.0dev,>=3.19.5, but you have protobuf 5.26.0 which is incompatible.\n",
            "google-cloud-functions 1.13.3 requires protobuf!=3.20.0,!=3.20.1,!=4.21.0,!=4.21.1,!=4.21.2,!=4.21.3,!=4.21.4,!=4.21.5,<5.0.0dev,>=3.19.5, but you have protobuf 5.26.0 which is incompatible.\n",
            "google-cloud-iam 2.14.3 requires protobuf!=3.20.0,!=3.20.1,!=4.21.0,!=4.21.1,!=4.21.2,!=4.21.3,!=4.21.4,!=4.21.5,<5.0.0dev,>=3.19.5, but you have protobuf 5.26.0 which is incompatible.\n",
            "google-cloud-language 2.13.3 requires protobuf!=3.20.0,!=3.20.1,!=4.21.0,!=4.21.1,!=4.21.2,!=4.21.3,!=4.21.4,!=4.21.5,<5.0.0dev,>=3.19.5, but you have protobuf 5.26.0 which is incompatible.\n",
            "google-cloud-resource-manager 1.12.3 requires protobuf!=3.20.0,!=3.20.1,!=4.21.0,!=4.21.1,!=4.21.2,!=4.21.3,!=4.21.4,!=4.21.5,<5.0.0dev,>=3.19.5, but you have protobuf 5.26.0 which is incompatible.\n",
            "google-cloud-translate 3.11.3 requires protobuf!=3.20.0,!=3.20.1,!=4.21.0,!=4.21.1,!=4.21.2,!=4.21.3,!=4.21.4,!=4.21.5,<5.0.0dev,>=3.19.5, but you have protobuf 5.26.0 which is incompatible.\n",
            "google-colab 1.0.0 requires pandas==1.5.3, but you have pandas 2.2.1 which is incompatible.\n",
            "googleapis-common-protos 1.63.0 requires protobuf!=3.20.0,!=3.20.1,!=4.21.1,!=4.21.2,!=4.21.3,!=4.21.4,!=4.21.5,<5.0.0.dev0,>=3.19.5, but you have protobuf 5.26.0 which is incompatible.\n",
            "grpc-google-iam-v1 0.13.0 requires protobuf!=3.20.0,!=3.20.1,!=4.21.1,!=4.21.2,!=4.21.3,!=4.21.4,!=4.21.5,<5.0.0dev,>=3.19.5, but you have protobuf 5.26.0 which is incompatible.\n",
            "proto-plus 1.23.0 requires protobuf<5.0.0dev,>=3.19.0, but you have protobuf 5.26.0 which is incompatible.\n",
            "tensorflow 2.15.0 requires protobuf!=4.21.0,!=4.21.1,!=4.21.2,!=4.21.3,!=4.21.4,!=4.21.5,<5.0.0dev,>=3.20.3, but you have protobuf 5.26.0 which is incompatible.\n",
            "tensorflow-metadata 1.14.0 requires absl-py<2.0.0,>=0.9, but you have absl-py 2.1.0 which is incompatible.\n",
            "tensorflow-metadata 1.14.0 requires protobuf<4.21,>=3.20.3, but you have protobuf 5.26.0 which is incompatible.\u001b[0m\u001b[31m\n",
            "\u001b[0mSuccessfully installed absl-py-2.1.0 immutabledict-4.2.0 openrouteservice-2.3.3 ortools-9.9.3963 pandas-2.2.1 protobuf-5.26.0 tzdata-2024.1\n"
          ]
        }
      ]
    },
    {
      "cell_type": "code",
      "metadata": {
        "id": "YK-OUF6XsCGG"
      },
      "source": [
        "from geopy.geocoders import Nominatim\n",
        "import folium\n",
        "from openrouteservice import client\n",
        "\n",
        "#estilo da rota\n",
        "style = {'color': '#00FF00'}\n",
        "\n",
        "# API do openroute services\n",
        "api_key = '5b3ce3597851110001cf62485c8459af71a14fbab3904c680fbea604'\n",
        "clnt = client.Client(key=api_key) # Create client with api key\n",
        "\n"
      ],
      "execution_count": null,
      "outputs": []
    },
    {
      "cell_type": "code",
      "source": [
        "geolocator = Nominatim (user_agent = 'rafaelsz@ufpr.br')\n",
        "endereco1 = input(\"Entre com o primeiro endreco: \")\n",
        "local1 = geolocator.geocode(endereco1)"
      ],
      "metadata": {
        "colab": {
          "base_uri": "https://localhost:8080/"
        },
        "id": "hJOkSwfRHXvW",
        "outputId": "fa999ad9-1646-4317-beb1-e142524dbcaf"
      },
      "execution_count": null,
      "outputs": [
        {
          "name": "stdout",
          "output_type": "stream",
          "text": [
            "Entre com o primeiro endreco: Rua mario Burigo, 39\n"
          ]
        }
      ]
    },
    {
      "cell_type": "code",
      "source": [
        "endereco2 = input(\"Entre com o segundo endreco: \")\n",
        "local2 = geolocator.geocode(endereco2)"
      ],
      "metadata": {
        "colab": {
          "base_uri": "https://localhost:8080/"
        },
        "id": "cK8pDzqdHRaH",
        "outputId": "193f5831-de84-4786-edfb-3ba956e6c1ee"
      },
      "execution_count": null,
      "outputs": [
        {
          "name": "stdout",
          "output_type": "stream",
          "text": [
            "Entre com o segundo endreco: Rua Alfredo Bufren, 285\n"
          ]
        }
      ]
    },
    {
      "cell_type": "code",
      "source": [
        "print(local1.latitude, local1.longitude)"
      ],
      "metadata": {
        "colab": {
          "base_uri": "https://localhost:8080/"
        },
        "id": "0wLAliGiHd3n",
        "outputId": "44d192ff-86b0-4a88-f405-c8e42be305fd"
      },
      "execution_count": null,
      "outputs": [
        {
          "output_type": "stream",
          "name": "stdout",
          "text": [
            "-25.4349789 -49.3045586\n"
          ]
        }
      ]
    },
    {
      "cell_type": "code",
      "source": [
        "print(local2.latitude, local2.longitude)"
      ],
      "metadata": {
        "colab": {
          "base_uri": "https://localhost:8080/"
        },
        "id": "4Dr-E0rIHk7x",
        "outputId": "e2b992fa-e23c-40d2-a31a-6b3058cd1bd8"
      },
      "execution_count": null,
      "outputs": [
        {
          "output_type": "stream",
          "name": "stdout",
          "text": [
            "-25.4282589 -49.2666714\n"
          ]
        }
      ]
    },
    {
      "cell_type": "code",
      "source": [
        "#Coloca os pois pontos no mapa\n",
        "m = folium.Map (location = [local1.latitude, local1.longitude],zoom_start=14)\n",
        "folium. Marker (location = [local1.latitude, local1.longitude], popup=endereco1,\n",
        "                 icon=folium.Icon(color='blue',icon='star')).add_to (m)\n",
        "folium. Marker (location = [local2.latitude, local2.longitude], popup=endereco2,\n",
        "                 icon=folium.Icon(color='red',icon='star')).add_to (m)\n",
        "\n",
        "m"
      ],
      "metadata": {
        "colab": {
          "base_uri": "https://localhost:8080/",
          "height": 1000
        },
        "id": "xrjy6H66HUAr",
        "outputId": "6854f88d-74d0-4b6e-b37f-908880525bf3"
      },
      "execution_count": null,
      "outputs": [
        {
          "output_type": "execute_result",
          "data": {
            "text/plain": [
              "<folium.folium.Map at 0x7da81d178100>"
            ],
            "text/html": [
              "<div style=\"width:100%;\"><div style=\"position:relative;width:100%;height:0;padding-bottom:60%;\"><span style=\"color:#565656\">Make this Notebook Trusted to load map: File -> Trust Notebook</span><iframe srcdoc=\"&lt;!DOCTYPE html&gt;\n",
              "&lt;html&gt;\n",
              "&lt;head&gt;\n",
              "    \n",
              "    &lt;meta http-equiv=&quot;content-type&quot; content=&quot;text/html; charset=UTF-8&quot; /&gt;\n",
              "    \n",
              "        &lt;script&gt;\n",
              "            L_NO_TOUCH = false;\n",
              "            L_DISABLE_3D = false;\n",
              "        &lt;/script&gt;\n",
              "    \n",
              "    &lt;style&gt;html, body {width: 100%;height: 100%;margin: 0;padding: 0;}&lt;/style&gt;\n",
              "    &lt;style&gt;#map {position:absolute;top:0;bottom:0;right:0;left:0;}&lt;/style&gt;\n",
              "    &lt;script src=&quot;https://cdn.jsdelivr.net/npm/leaflet@1.9.3/dist/leaflet.js&quot;&gt;&lt;/script&gt;\n",
              "    &lt;script src=&quot;https://code.jquery.com/jquery-1.12.4.min.js&quot;&gt;&lt;/script&gt;\n",
              "    &lt;script src=&quot;https://cdn.jsdelivr.net/npm/bootstrap@5.2.2/dist/js/bootstrap.bundle.min.js&quot;&gt;&lt;/script&gt;\n",
              "    &lt;script src=&quot;https://cdnjs.cloudflare.com/ajax/libs/Leaflet.awesome-markers/2.0.2/leaflet.awesome-markers.js&quot;&gt;&lt;/script&gt;\n",
              "    &lt;link rel=&quot;stylesheet&quot; href=&quot;https://cdn.jsdelivr.net/npm/leaflet@1.9.3/dist/leaflet.css&quot;/&gt;\n",
              "    &lt;link rel=&quot;stylesheet&quot; href=&quot;https://cdn.jsdelivr.net/npm/bootstrap@5.2.2/dist/css/bootstrap.min.css&quot;/&gt;\n",
              "    &lt;link rel=&quot;stylesheet&quot; href=&quot;https://netdna.bootstrapcdn.com/bootstrap/3.0.0/css/bootstrap.min.css&quot;/&gt;\n",
              "    &lt;link rel=&quot;stylesheet&quot; href=&quot;https://cdn.jsdelivr.net/npm/@fortawesome/fontawesome-free@6.2.0/css/all.min.css&quot;/&gt;\n",
              "    &lt;link rel=&quot;stylesheet&quot; href=&quot;https://cdnjs.cloudflare.com/ajax/libs/Leaflet.awesome-markers/2.0.2/leaflet.awesome-markers.css&quot;/&gt;\n",
              "    &lt;link rel=&quot;stylesheet&quot; href=&quot;https://cdn.jsdelivr.net/gh/python-visualization/folium/folium/templates/leaflet.awesome.rotate.min.css&quot;/&gt;\n",
              "    \n",
              "            &lt;meta name=&quot;viewport&quot; content=&quot;width=device-width,\n",
              "                initial-scale=1.0, maximum-scale=1.0, user-scalable=no&quot; /&gt;\n",
              "            &lt;style&gt;\n",
              "                #map_8fdaaa3744c964f2eda3f48a6cc7841f {\n",
              "                    position: relative;\n",
              "                    width: 100.0%;\n",
              "                    height: 100.0%;\n",
              "                    left: 0.0%;\n",
              "                    top: 0.0%;\n",
              "                }\n",
              "                .leaflet-container { font-size: 1rem; }\n",
              "            &lt;/style&gt;\n",
              "        \n",
              "&lt;/head&gt;\n",
              "&lt;body&gt;\n",
              "    \n",
              "    \n",
              "            &lt;div class=&quot;folium-map&quot; id=&quot;map_8fdaaa3744c964f2eda3f48a6cc7841f&quot; &gt;&lt;/div&gt;\n",
              "        \n",
              "&lt;/body&gt;\n",
              "&lt;script&gt;\n",
              "    \n",
              "    \n",
              "            var map_8fdaaa3744c964f2eda3f48a6cc7841f = L.map(\n",
              "                &quot;map_8fdaaa3744c964f2eda3f48a6cc7841f&quot;,\n",
              "                {\n",
              "                    center: [-25.4349789, -49.3045586],\n",
              "                    crs: L.CRS.EPSG3857,\n",
              "                    zoom: 14,\n",
              "                    zoomControl: true,\n",
              "                    preferCanvas: false,\n",
              "                }\n",
              "            );\n",
              "\n",
              "            \n",
              "\n",
              "        \n",
              "    \n",
              "            var tile_layer_13fa732fa0110f2085f37854d7858f88 = L.tileLayer(\n",
              "                &quot;https://{s}.tile.openstreetmap.org/{z}/{x}/{y}.png&quot;,\n",
              "                {&quot;attribution&quot;: &quot;Data by \\u0026copy; \\u003ca target=\\&quot;_blank\\&quot; href=\\&quot;http://openstreetmap.org\\&quot;\\u003eOpenStreetMap\\u003c/a\\u003e, under \\u003ca target=\\&quot;_blank\\&quot; href=\\&quot;http://www.openstreetmap.org/copyright\\&quot;\\u003eODbL\\u003c/a\\u003e.&quot;, &quot;detectRetina&quot;: false, &quot;maxNativeZoom&quot;: 18, &quot;maxZoom&quot;: 18, &quot;minZoom&quot;: 0, &quot;noWrap&quot;: false, &quot;opacity&quot;: 1, &quot;subdomains&quot;: &quot;abc&quot;, &quot;tms&quot;: false}\n",
              "            ).addTo(map_8fdaaa3744c964f2eda3f48a6cc7841f);\n",
              "        \n",
              "    \n",
              "            var marker_45de35b207ffa6a10dc3542ed59af2a7 = L.marker(\n",
              "                [-25.4349789, -49.3045586],\n",
              "                {}\n",
              "            ).addTo(map_8fdaaa3744c964f2eda3f48a6cc7841f);\n",
              "        \n",
              "    \n",
              "            var icon_132685905e48a69f55c575ea98b386e7 = L.AwesomeMarkers.icon(\n",
              "                {&quot;extraClasses&quot;: &quot;fa-rotate-0&quot;, &quot;icon&quot;: &quot;star&quot;, &quot;iconColor&quot;: &quot;white&quot;, &quot;markerColor&quot;: &quot;blue&quot;, &quot;prefix&quot;: &quot;glyphicon&quot;}\n",
              "            );\n",
              "            marker_45de35b207ffa6a10dc3542ed59af2a7.setIcon(icon_132685905e48a69f55c575ea98b386e7);\n",
              "        \n",
              "    \n",
              "        var popup_2c03a70c1e53c469893fb5800d369bdd = L.popup({&quot;maxWidth&quot;: &quot;100%&quot;});\n",
              "\n",
              "        \n",
              "            \n",
              "                var html_a545c136429bf57ed8f7c6139444522e = $(`&lt;div id=&quot;html_a545c136429bf57ed8f7c6139444522e&quot; style=&quot;width: 100.0%; height: 100.0%;&quot;&gt;Rua mario Burigo, 39&lt;/div&gt;`)[0];\n",
              "                popup_2c03a70c1e53c469893fb5800d369bdd.setContent(html_a545c136429bf57ed8f7c6139444522e);\n",
              "            \n",
              "        \n",
              "\n",
              "        marker_45de35b207ffa6a10dc3542ed59af2a7.bindPopup(popup_2c03a70c1e53c469893fb5800d369bdd)\n",
              "        ;\n",
              "\n",
              "        \n",
              "    \n",
              "    \n",
              "            var marker_a72df5ab66789d2d66aff167d452c4bc = L.marker(\n",
              "                [-25.4282589, -49.2666714],\n",
              "                {}\n",
              "            ).addTo(map_8fdaaa3744c964f2eda3f48a6cc7841f);\n",
              "        \n",
              "    \n",
              "            var icon_52ab2b3fbf85acf7943da0eeccaeb3f4 = L.AwesomeMarkers.icon(\n",
              "                {&quot;extraClasses&quot;: &quot;fa-rotate-0&quot;, &quot;icon&quot;: &quot;star&quot;, &quot;iconColor&quot;: &quot;white&quot;, &quot;markerColor&quot;: &quot;red&quot;, &quot;prefix&quot;: &quot;glyphicon&quot;}\n",
              "            );\n",
              "            marker_a72df5ab66789d2d66aff167d452c4bc.setIcon(icon_52ab2b3fbf85acf7943da0eeccaeb3f4);\n",
              "        \n",
              "    \n",
              "        var popup_245ecd869301cd7b9892dd45b06a65d4 = L.popup({&quot;maxWidth&quot;: &quot;100%&quot;});\n",
              "\n",
              "        \n",
              "            \n",
              "                var html_7abfa12935764311ffbca443c5c840c8 = $(`&lt;div id=&quot;html_7abfa12935764311ffbca443c5c840c8&quot; style=&quot;width: 100.0%; height: 100.0%;&quot;&gt;Rua Alfredo Bufren, 285&lt;/div&gt;`)[0];\n",
              "                popup_245ecd869301cd7b9892dd45b06a65d4.setContent(html_7abfa12935764311ffbca443c5c840c8);\n",
              "            \n",
              "        \n",
              "\n",
              "        marker_a72df5ab66789d2d66aff167d452c4bc.bindPopup(popup_245ecd869301cd7b9892dd45b06a65d4)\n",
              "        ;\n",
              "\n",
              "        \n",
              "    \n",
              "&lt;/script&gt;\n",
              "&lt;/html&gt;\" style=\"position:absolute;width:100%;height:100%;left:0;top:0;border:none !important;\" allowfullscreen webkitallowfullscreen mozallowfullscreen></iframe></div></div>"
            ]
          },
          "metadata": {},
          "execution_count": 9
        }
      ]
    },
    {
      "cell_type": "code",
      "source": [
        "request_params = {'coordinates': [[local1.longitude, local1.latitude],\n",
        "                                 [local2.longitude, local2.latitude]],\n",
        "                'format_out': 'geojson',\n",
        "                'profile': 'driving-car',\n",
        "                'preference': 'shortest',\n",
        "                'instructions': 'false',}\n",
        "route_normal = clnt.directions(**request_params)\n",
        "\n",
        "#Adiciona a rota no mapa\n",
        "folium.features.GeoJson(data=route_normal,\n",
        "                        name='Rota entre os pontos',\n",
        "                        style_function=lambda x: style,\n",
        "                        overlay=True).add_to(m)\n",
        "m"
      ],
      "metadata": {
        "colab": {
          "base_uri": "https://localhost:8080/",
          "height": 1000
        },
        "id": "rESiG9r0H_om",
        "outputId": "1290f95a-9641-454e-f093-185c0dab4527"
      },
      "execution_count": null,
      "outputs": [
        {
          "output_type": "execute_result",
          "data": {
            "text/plain": [
              "<folium.folium.Map at 0x7da81d178100>"
            ],
            "text/html": [
              "<div style=\"width:100%;\"><div style=\"position:relative;width:100%;height:0;padding-bottom:60%;\"><span style=\"color:#565656\">Make this Notebook Trusted to load map: File -> Trust Notebook</span><iframe srcdoc=\"&lt;!DOCTYPE html&gt;\n",
              "&lt;html&gt;\n",
              "&lt;head&gt;\n",
              "    \n",
              "    &lt;meta http-equiv=&quot;content-type&quot; content=&quot;text/html; charset=UTF-8&quot; /&gt;\n",
              "    \n",
              "        &lt;script&gt;\n",
              "            L_NO_TOUCH = false;\n",
              "            L_DISABLE_3D = false;\n",
              "        &lt;/script&gt;\n",
              "    \n",
              "    &lt;style&gt;html, body {width: 100%;height: 100%;margin: 0;padding: 0;}&lt;/style&gt;\n",
              "    &lt;style&gt;#map {position:absolute;top:0;bottom:0;right:0;left:0;}&lt;/style&gt;\n",
              "    &lt;script src=&quot;https://cdn.jsdelivr.net/npm/leaflet@1.9.3/dist/leaflet.js&quot;&gt;&lt;/script&gt;\n",
              "    &lt;script src=&quot;https://code.jquery.com/jquery-1.12.4.min.js&quot;&gt;&lt;/script&gt;\n",
              "    &lt;script src=&quot;https://cdn.jsdelivr.net/npm/bootstrap@5.2.2/dist/js/bootstrap.bundle.min.js&quot;&gt;&lt;/script&gt;\n",
              "    &lt;script src=&quot;https://cdnjs.cloudflare.com/ajax/libs/Leaflet.awesome-markers/2.0.2/leaflet.awesome-markers.js&quot;&gt;&lt;/script&gt;\n",
              "    &lt;link rel=&quot;stylesheet&quot; href=&quot;https://cdn.jsdelivr.net/npm/leaflet@1.9.3/dist/leaflet.css&quot;/&gt;\n",
              "    &lt;link rel=&quot;stylesheet&quot; href=&quot;https://cdn.jsdelivr.net/npm/bootstrap@5.2.2/dist/css/bootstrap.min.css&quot;/&gt;\n",
              "    &lt;link rel=&quot;stylesheet&quot; href=&quot;https://netdna.bootstrapcdn.com/bootstrap/3.0.0/css/bootstrap.min.css&quot;/&gt;\n",
              "    &lt;link rel=&quot;stylesheet&quot; href=&quot;https://cdn.jsdelivr.net/npm/@fortawesome/fontawesome-free@6.2.0/css/all.min.css&quot;/&gt;\n",
              "    &lt;link rel=&quot;stylesheet&quot; href=&quot;https://cdnjs.cloudflare.com/ajax/libs/Leaflet.awesome-markers/2.0.2/leaflet.awesome-markers.css&quot;/&gt;\n",
              "    &lt;link rel=&quot;stylesheet&quot; href=&quot;https://cdn.jsdelivr.net/gh/python-visualization/folium/folium/templates/leaflet.awesome.rotate.min.css&quot;/&gt;\n",
              "    \n",
              "            &lt;meta name=&quot;viewport&quot; content=&quot;width=device-width,\n",
              "                initial-scale=1.0, maximum-scale=1.0, user-scalable=no&quot; /&gt;\n",
              "            &lt;style&gt;\n",
              "                #map_8fdaaa3744c964f2eda3f48a6cc7841f {\n",
              "                    position: relative;\n",
              "                    width: 100.0%;\n",
              "                    height: 100.0%;\n",
              "                    left: 0.0%;\n",
              "                    top: 0.0%;\n",
              "                }\n",
              "                .leaflet-container { font-size: 1rem; }\n",
              "            &lt;/style&gt;\n",
              "        \n",
              "&lt;/head&gt;\n",
              "&lt;body&gt;\n",
              "    \n",
              "    \n",
              "            &lt;div class=&quot;folium-map&quot; id=&quot;map_8fdaaa3744c964f2eda3f48a6cc7841f&quot; &gt;&lt;/div&gt;\n",
              "        \n",
              "&lt;/body&gt;\n",
              "&lt;script&gt;\n",
              "    \n",
              "    \n",
              "            var map_8fdaaa3744c964f2eda3f48a6cc7841f = L.map(\n",
              "                &quot;map_8fdaaa3744c964f2eda3f48a6cc7841f&quot;,\n",
              "                {\n",
              "                    center: [-25.4349789, -49.3045586],\n",
              "                    crs: L.CRS.EPSG3857,\n",
              "                    zoom: 14,\n",
              "                    zoomControl: true,\n",
              "                    preferCanvas: false,\n",
              "                }\n",
              "            );\n",
              "\n",
              "            \n",
              "\n",
              "        \n",
              "    \n",
              "            var tile_layer_13fa732fa0110f2085f37854d7858f88 = L.tileLayer(\n",
              "                &quot;https://{s}.tile.openstreetmap.org/{z}/{x}/{y}.png&quot;,\n",
              "                {&quot;attribution&quot;: &quot;Data by \\u0026copy; \\u003ca target=\\&quot;_blank\\&quot; href=\\&quot;http://openstreetmap.org\\&quot;\\u003eOpenStreetMap\\u003c/a\\u003e, under \\u003ca target=\\&quot;_blank\\&quot; href=\\&quot;http://www.openstreetmap.org/copyright\\&quot;\\u003eODbL\\u003c/a\\u003e.&quot;, &quot;detectRetina&quot;: false, &quot;maxNativeZoom&quot;: 18, &quot;maxZoom&quot;: 18, &quot;minZoom&quot;: 0, &quot;noWrap&quot;: false, &quot;opacity&quot;: 1, &quot;subdomains&quot;: &quot;abc&quot;, &quot;tms&quot;: false}\n",
              "            ).addTo(map_8fdaaa3744c964f2eda3f48a6cc7841f);\n",
              "        \n",
              "    \n",
              "            var marker_45de35b207ffa6a10dc3542ed59af2a7 = L.marker(\n",
              "                [-25.4349789, -49.3045586],\n",
              "                {}\n",
              "            ).addTo(map_8fdaaa3744c964f2eda3f48a6cc7841f);\n",
              "        \n",
              "    \n",
              "            var icon_132685905e48a69f55c575ea98b386e7 = L.AwesomeMarkers.icon(\n",
              "                {&quot;extraClasses&quot;: &quot;fa-rotate-0&quot;, &quot;icon&quot;: &quot;star&quot;, &quot;iconColor&quot;: &quot;white&quot;, &quot;markerColor&quot;: &quot;blue&quot;, &quot;prefix&quot;: &quot;glyphicon&quot;}\n",
              "            );\n",
              "            marker_45de35b207ffa6a10dc3542ed59af2a7.setIcon(icon_132685905e48a69f55c575ea98b386e7);\n",
              "        \n",
              "    \n",
              "        var popup_2c03a70c1e53c469893fb5800d369bdd = L.popup({&quot;maxWidth&quot;: &quot;100%&quot;});\n",
              "\n",
              "        \n",
              "            \n",
              "                var html_a545c136429bf57ed8f7c6139444522e = $(`&lt;div id=&quot;html_a545c136429bf57ed8f7c6139444522e&quot; style=&quot;width: 100.0%; height: 100.0%;&quot;&gt;Rua mario Burigo, 39&lt;/div&gt;`)[0];\n",
              "                popup_2c03a70c1e53c469893fb5800d369bdd.setContent(html_a545c136429bf57ed8f7c6139444522e);\n",
              "            \n",
              "        \n",
              "\n",
              "        marker_45de35b207ffa6a10dc3542ed59af2a7.bindPopup(popup_2c03a70c1e53c469893fb5800d369bdd)\n",
              "        ;\n",
              "\n",
              "        \n",
              "    \n",
              "    \n",
              "            var marker_a72df5ab66789d2d66aff167d452c4bc = L.marker(\n",
              "                [-25.4282589, -49.2666714],\n",
              "                {}\n",
              "            ).addTo(map_8fdaaa3744c964f2eda3f48a6cc7841f);\n",
              "        \n",
              "    \n",
              "            var icon_52ab2b3fbf85acf7943da0eeccaeb3f4 = L.AwesomeMarkers.icon(\n",
              "                {&quot;extraClasses&quot;: &quot;fa-rotate-0&quot;, &quot;icon&quot;: &quot;star&quot;, &quot;iconColor&quot;: &quot;white&quot;, &quot;markerColor&quot;: &quot;red&quot;, &quot;prefix&quot;: &quot;glyphicon&quot;}\n",
              "            );\n",
              "            marker_a72df5ab66789d2d66aff167d452c4bc.setIcon(icon_52ab2b3fbf85acf7943da0eeccaeb3f4);\n",
              "        \n",
              "    \n",
              "        var popup_245ecd869301cd7b9892dd45b06a65d4 = L.popup({&quot;maxWidth&quot;: &quot;100%&quot;});\n",
              "\n",
              "        \n",
              "            \n",
              "                var html_7abfa12935764311ffbca443c5c840c8 = $(`&lt;div id=&quot;html_7abfa12935764311ffbca443c5c840c8&quot; style=&quot;width: 100.0%; height: 100.0%;&quot;&gt;Rua Alfredo Bufren, 285&lt;/div&gt;`)[0];\n",
              "                popup_245ecd869301cd7b9892dd45b06a65d4.setContent(html_7abfa12935764311ffbca443c5c840c8);\n",
              "            \n",
              "        \n",
              "\n",
              "        marker_a72df5ab66789d2d66aff167d452c4bc.bindPopup(popup_245ecd869301cd7b9892dd45b06a65d4)\n",
              "        ;\n",
              "\n",
              "        \n",
              "    \n",
              "    \n",
              "        function geo_json_c595e0047479bfaf271bed287c78caef_styler(feature) {\n",
              "            switch(feature.properties.transfers) {\n",
              "                default:\n",
              "                    return {&quot;color&quot;: &quot;#00FF00&quot;};\n",
              "            }\n",
              "        }\n",
              "\n",
              "        function geo_json_c595e0047479bfaf271bed287c78caef_onEachFeature(feature, layer) {\n",
              "            layer.on({\n",
              "            });\n",
              "        };\n",
              "        var geo_json_c595e0047479bfaf271bed287c78caef = L.geoJson(null, {\n",
              "                onEachFeature: geo_json_c595e0047479bfaf271bed287c78caef_onEachFeature,\n",
              "            \n",
              "                style: geo_json_c595e0047479bfaf271bed287c78caef_styler,\n",
              "        });\n",
              "\n",
              "        function geo_json_c595e0047479bfaf271bed287c78caef_add (data) {\n",
              "            geo_json_c595e0047479bfaf271bed287c78caef\n",
              "                .addData(data)\n",
              "                .addTo(map_8fdaaa3744c964f2eda3f48a6cc7841f);\n",
              "        }\n",
              "            geo_json_c595e0047479bfaf271bed287c78caef_add({&quot;bbox&quot;: [-49.306371, -25.435801, -49.266626, -25.428349], &quot;features&quot;: [{&quot;bbox&quot;: [-49.306371, -25.435801, -49.266626, -25.428349], &quot;geometry&quot;: {&quot;coordinates&quot;: [[-49.304559, -25.434979], [-49.305412, -25.435299], [-49.306371, -25.435658], [-49.306296, -25.435729], [-49.306216, -25.435801], [-49.304565, -25.435182], [-49.303153, -25.434652], [-49.302087, -25.434231], [-49.300998, -25.433801], [-49.299909, -25.43337], [-49.29891, -25.432975], [-49.298709, -25.432896], [-49.298448, -25.432793], [-49.295382, -25.431581], [-49.294231, -25.431127], [-49.293039, -25.430656], [-49.292284, -25.430357], [-49.290991, -25.429845], [-49.289828, -25.429386], [-49.28861, -25.428904], [-49.28846, -25.428863], [-49.288311, -25.428871], [-49.286661, -25.429175], [-49.285964, -25.429304], [-49.284642, -25.429549], [-49.284244, -25.429623], [-49.284115, -25.429646], [-49.282874, -25.429877], [-49.282697, -25.42993], [-49.282596, -25.429973], [-49.280969, -25.430707], [-49.280822, -25.430769], [-49.2798, -25.431136], [-49.279184, -25.431358], [-49.278437, -25.431628], [-49.278315, -25.431545], [-49.277378, -25.431205], [-49.276728, -25.430971], [-49.276559, -25.430909], [-49.275472, -25.430515], [-49.274501, -25.430163], [-49.274291, -25.430087], [-49.273518, -25.429807], [-49.272692, -25.429508], [-49.272594, -25.429702], [-49.272499, -25.429888], [-49.272444, -25.429998], [-49.272387, -25.430109], [-49.272363, -25.430157], [-49.272285, -25.430202], [-49.272221, -25.430211], [-49.272046, -25.430182], [-49.271805, -25.430131], [-49.271291, -25.430031], [-49.271115, -25.429969], [-49.271034, -25.42986], [-49.270964, -25.429601], [-49.270897, -25.429529], [-49.270075, -25.429121], [-49.269331, -25.428757], [-49.268267, -25.428693], [-49.26819, -25.428688], [-49.267382, -25.428636], [-49.267194, -25.428581], [-49.266943, -25.428479], [-49.266843, -25.428438], [-49.266645, -25.428356], [-49.266626, -25.428349]], &quot;type&quot;: &quot;LineString&quot;}, &quot;properties&quot;: {&quot;fare&quot;: 0, &quot;summary&quot;: {&quot;distance&quot;: 4567.2, &quot;duration&quot;: 646.5}, &quot;transfers&quot;: 0, &quot;way_points&quot;: [0, 67]}, &quot;type&quot;: &quot;Feature&quot;}], &quot;metadata&quot;: {&quot;attribution&quot;: &quot;openrouteservice.org | OpenStreetMap contributors&quot;, &quot;engine&quot;: {&quot;build_date&quot;: &quot;2024-01-29T14:41:12Z&quot;, &quot;graph_date&quot;: &quot;2024-03-17T13:51:27Z&quot;, &quot;version&quot;: &quot;7.1.1&quot;}, &quot;query&quot;: {&quot;coordinates&quot;: [[-49.3045586, -25.4349789], [-49.2666714, -25.4282589]], &quot;format&quot;: &quot;geojson&quot;, &quot;preference&quot;: &quot;shortest&quot;, &quot;profile&quot;: &quot;driving-car&quot;}, &quot;service&quot;: &quot;routing&quot;, &quot;timestamp&quot;: 1710793137748}, &quot;type&quot;: &quot;FeatureCollection&quot;});\n",
              "\n",
              "        \n",
              "&lt;/script&gt;\n",
              "&lt;/html&gt;\" style=\"position:absolute;width:100%;height:100%;left:0;top:0;border:none !important;\" allowfullscreen webkitallowfullscreen mozallowfullscreen></iframe></div></div>"
            ]
          },
          "metadata": {},
          "execution_count": 10
        }
      ]
    }
  ]
}